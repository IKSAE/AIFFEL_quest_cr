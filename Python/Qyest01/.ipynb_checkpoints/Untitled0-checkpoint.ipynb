{
 "cells": [
  {
   "cell_type": "markdown",
   "metadata": {
    "colab_type": "text",
    "id": "view-in-github"
   },
   "source": [
    "<a href=\"https://colab.research.google.com/github/IKSAE/AIFFEL_quest_cr/blob/master/Python/Qyest01/Untitled0.ipynb\" target=\"_parent\"><img src=\"https://colab.research.google.com/assets/colab-badge.svg\" alt=\"Open In Colab\"/></a>"
   ]
  },
  {
   "cell_type": "markdown",
   "metadata": {
    "id": "_bigphivnx3Z"
   },
   "source": [
    "# 파이썬 퀘스트 01\n",
    "\n",
    "## 회문인지 아닌지 판별하기\n",
    "\n",
    "퀘스트 1>  \n",
    "회문인지 아닌지 확인하는 프로그램 제작하기.\n",
    "\n",
    "조건  \n",
    "\n",
    " - 단어를 입력받고  \n",
    " - 뒤집어 출력하기  \n",
    " - 회문이 맞는지 확인후 출력하기  \n",
    " - 자료형, 제어문, 함수 이용  \n",
    "\n",
    "출력값\n",
    "---\n",
    "입력값:\n",
    "\n",
    "뒤집힌 단어는:  \n",
    "입력된 단어는 회문입니다. / 회문이 아닙니다."
   ]
  },
  {
   "cell_type": "code",
   "execution_count": null,
   "metadata": {
    "colab": {
     "base_uri": "https://localhost:8080/"
    },
    "id": "xduqRFw8nk5o",
    "outputId": "c2c3d51d-044a-4304-8fea-6df315d2681d"
   },
   "outputs": [
    {
     "name": "stdout",
     "output_type": "stream",
     "text": [
      "단어를 입력해주세요:AIFFEL\n",
      "뒤집힌 단어는: LEFFIA\n",
      "입력된 단어는 회문이 아닙니다\n"
     ]
    }
   ],
   "source": [
    "def palindrome(w):                    # 매개변수를 받아 회문 판별하는 함수\n",
    "  backword = \"\"\n",
    "\n",
    "  for i in w:                         # 문자열 반대로 저장\n",
    "    backword = i + backword\n",
    "\n",
    "  print(\"뒤집힌 단어는:\",backword)\n",
    "\n",
    "  if word == backword:                # 조건문으로 입력된 다어와 뒤집힌 단어가 같은지 확인\n",
    "    print(\"입력된 단어는 회문입니다\")\n",
    "  else:\n",
    "    print(\"입력된 단어는 회문이 아닙니다\")\n",
    "\n",
    "word = input(\"단어를 입력해주세요:\")  # 단어를 입력받아 저장\n",
    "palindrome(word)                      # 회문을 판별할 함수 불러오기"
   ]
  },
  {
   "cell_type": "code",
   "execution_count": null,
   "metadata": {
    "colab": {
     "base_uri": "https://localhost:8080/"
    },
    "id": "SO3ofA_8ruF9",
    "outputId": "e33b06d2-2c39-40e7-83c6-48996affe5bf"
   },
   "outputs": [
    {
     "name": "stdout",
     "output_type": "stream",
     "text": [
      "단어를 입력해주세요:BANANAB\n",
      "BANANAB\n",
      "입력된 단어는 회문입니다\n"
     ]
    }
   ],
   "source": [
    "#  문자열 뒤집기 연습 코딩 페이지\n",
    "\n",
    "word = input(\"단어를 입력해주세요:\")\n",
    "backword = \"\"\n",
    "for i in word:\n",
    "  backword = i + backword\n",
    "  # word        w +  = w        r + w = rw\n",
    "  # 문자열끼리 더하면 앞 문자와 뒷 문자가 순서대로 결합\n",
    "\n",
    "print(backword)\n",
    "if word == backword:\n",
    "  print(\"입력된 단어는 회문입니다\")\n",
    "else:\n",
    "  print(\"입력된 단어는 회문이 아닙니다\")\n"
   ]
  },
  {
   "cell_type": "markdown",
   "metadata": {
    "id": "ibeiXlTX6ABs"
   },
   "source": [
    "# 회문\n",
    "---\n",
    "- 강윤제 : 원하는 내용이 바로바로 생각이 안나서 답답하였고 같이 코딩을 하는점이 새롭게 느껴졌다. 원하는 내용을 바로바로 써먹을 수 있게 복습을 잘 해야겠다거 느꼈다.\n",
    "---\n",
    "\n",
    "\n",
    "- 이익현 : 막상 배운거를 써서 활용하려니까 어려웠고 복습을 해야겠다고 느꼈다.\n",
    "---\n"
   ]
  },
  {
   "cell_type": "code",
   "execution_count": null,
   "metadata": {
    "id": "iGRLYiZW52ju"
   },
   "outputs": [],
   "source": []
  }
 ],
 "metadata": {
  "colab": {
   "include_colab_link": true,
   "provenance": []
  },
  "kernelspec": {
   "display_name": "Python 3 (ipykernel)",
   "language": "python",
   "name": "python3"
  },
  "language_info": {
   "codemirror_mode": {
    "name": "ipython",
    "version": 3
   },
   "file_extension": ".py",
   "mimetype": "text/x-python",
   "name": "python",
   "nbconvert_exporter": "python",
   "pygments_lexer": "ipython3",
   "version": "3.9.7"
  }
 },
 "nbformat": 4,
 "nbformat_minor": 1
}
