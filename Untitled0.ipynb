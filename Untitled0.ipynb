{
  "nbformat": 4,
  "nbformat_minor": 0,
  "metadata": {
    "colab": {
      "provenance": [],
      "include_colab_link": true
    },
    "kernelspec": {
      "name": "python3",
      "display_name": "Python 3"
    },
    "language_info": {
      "name": "python"
    }
  },
  "cells": [
    {
      "cell_type": "markdown",
      "metadata": {
        "id": "view-in-github",
        "colab_type": "text"
      },
      "source": [
        "<a href=\"https://colab.research.google.com/github/IKSAE/AIFFEL_quest_cr/blob/master/Untitled0.ipynb\" target=\"_parent\"><img src=\"https://colab.research.google.com/assets/colab-badge.svg\" alt=\"Open In Colab\"/></a>"
      ]
    },
    {
      "cell_type": "code",
      "execution_count": null,
      "metadata": {
        "colab": {
          "base_uri": "https://localhost:8080/"
        },
        "id": "GwE-ll3heOyO",
        "outputId": "f1ce9733-de0d-4c95-ef1d-a1e61bb1bc98"
      },
      "outputs": [
        {
          "output_type": "stream",
          "name": "stdout",
          "text": [
            "Enter a sentence: we are the world\n",
            "Encoded text: [9, 24, 1, 78]\n"
          ]
        }
      ],
      "source": [
        "# 전체 코드\n",
        "import re    #정규표현식 사용할 수 있게 해줌\n",
        "from collections import Counter    #콜렉션 모듈 내 자료세기 좋은 카운터 클래스\n",
        "\n",
        "# avengers.txt 파일 불러오기\n",
        "def load_text(filename):\n",
        "    try:\n",
        "        with open(filename, 'r') as file:    #읽기모드\n",
        "            text = file.read()\n",
        "        return text\n",
        "    except FileNotFoundError:    #에러처리\n",
        "        print(f\"Error: The file '{filename}' was not found.\")\n",
        "        return None\n",
        "\n",
        "# 텍스트 전처리\n",
        "def preprocess_text(text):\n",
        "    text = text.lower()   # 모든 문자를 소문자로 변환\n",
        "    text = re.sub(r'[^\\w\\s]', '', text)   # 모든 기호 제거,정규표현식 작성시r활용, w는 문자, s는 공백\n",
        "    words = text.split()    # 단어 단위로 분리\n",
        "    return words\n",
        "\n",
        "# 단어 사용 빈도 계산\n",
        "def compute_word_frequencies(words):\n",
        "    return Counter(words)   #불러온 카운터 클래스 활용, 단어 빈도 수 세어 딕셔너리와 유사한 형태로 리턴\n",
        "\n",
        "# 딕셔너리를 빈도수순으로 내림차순 정렬하고 정수 인덱스 부여\n",
        "def create_vocab(word_freqs):\n",
        "    sorted_words = sorted(word_freqs.items(), key=lambda item: item[1], reverse=True) #딕셔너리 정렬 위해 튜플로 반환, lambda 간단한 함수 생성 item[1]튜플 두번째 값 참조, 내림차순\n",
        "    vocab = {word: index for index, (word, _) in enumerate(sorted_words)}    #단어 제일 많은 순으로 0번부터 정수 인덱스 부여\n",
        "    return vocab\n",
        "\n",
        "# 단어 사용 빈도 정리, 단어별 인덱스 부여한 vocab파일 생성\n",
        "def build_vocab_from_file(filename):\n",
        "    text = load_text(filename)      #파일 로드\n",
        "    if text is None:\n",
        "        return {}\n",
        "    words = preprocess_text(text)  # 전처리된 단어 리스트\n",
        "    word_freqs = compute_word_frequencies(words)    #빈도 수 계산\n",
        "    vocab = create_vocab(word_freqs)    #정수 인덱스 부여\n",
        "    return vocab\n",
        "\n",
        "# 사용자가 입력한 문장을 정수 리스트로 변환하는 함수\n",
        "def encoder(text):\n",
        "    words = preprocess_text(text)   #입력된 문자 전처리\n",
        "    encoded = [vocab.get(word, -1) for word in words]  # 단어가 vocab에 없으면 -1로 반환\n",
        "    return encoded\n",
        "\n",
        "filename = '/content/Avengers.txt'      #파일 경로 지정\n",
        "vocab = build_vocab_from_file(filename)   # 단어 사용 빈도 정리, 단어별 인덱스 부여한 vocab파일 생성\n",
        "\n",
        "if vocab:    #실행문\n",
        "\n",
        "    text = input(\"Enter a sentence: \")\n",
        "    encoded_text = encoder(text)\n",
        "\n",
        "    print(\"Encoded text:\", encoded_text)"
      ]
    },
    {
      "cell_type": "code",
      "source": [],
      "metadata": {
        "id": "k17sCpYRfY1F"
      },
      "execution_count": null,
      "outputs": []
    },
    {
      "cell_type": "code",
      "source": [],
      "metadata": {
        "id": "oWePMsvJfGwN"
      },
      "execution_count": null,
      "outputs": []
    },
    {
      "cell_type": "code",
      "source": [],
      "metadata": {
        "id": "F4SYM58xfDz8"
      },
      "execution_count": null,
      "outputs": []
    },
    {
      "cell_type": "code",
      "source": [],
      "metadata": {
        "id": "xtgTBqq3e_ml"
      },
      "execution_count": null,
      "outputs": []
    }
  ]
}